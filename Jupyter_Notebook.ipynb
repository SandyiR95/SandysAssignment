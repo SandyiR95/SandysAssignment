{
  "metadata": {
    "kernelspec": {
      "name": "python",
      "display_name": "Pyolite",
      "language": "python"
    },
    "language_info": {
      "codemirror_mode": {
        "name": "python",
        "version": 3
      },
      "file_extension": ".py",
      "mimetype": "text/x-python",
      "name": "python",
      "nbconvert_exporter": "python",
      "pygments_lexer": "ipython3",
      "version": "3.8"
    }
  },
  "nbformat_minor": 4,
  "nbformat": 4,
  "cells": [
    {
      "cell_type": "markdown",
      "source": "<center>\n    <img src=\"https://cf-courses-data.s3.us.cloud-object-storage.appdomain.cloud/IBMDeveloperSkillsNetwork-DS0105EN-SkillsNetwork/labs/Module2/images/SN_web_lightmode.png\" width=\"300\" alt=\"cognitiveclass.ai logo\"  />\n</center>\n",
      "metadata": {}
    },
    {
      "cell_type": "markdown",
      "source": "# My Jupyter Notebook on IBM Watson Studio",
      "metadata": {}
    },
    {
      "cell_type": "markdown",
      "source": "**Sanduni Ruwandika** \n",
      "metadata": {}
    },
    {
      "cell_type": "markdown",
      "source": "Data Analyst",
      "metadata": {}
    },
    {
      "cell_type": "markdown",
      "source": "*I am interested in data science because of my enthusiasm and curiosity about changing data into meaningful information in order to take important decisions in cooperative world.*",
      "metadata": {}
    },
    {
      "cell_type": "markdown",
      "source": "### In cell 5 code it is supposed to be an output of the calculation done. ",
      "metadata": {}
    },
    {
      "cell_type": "markdown",
      "source": "8*100",
      "metadata": {}
    },
    {
      "cell_type": "markdown",
      "source": "Horizontal Rule\n***\nHorizontal Rule\n\n[Link](https://www.google.com)\n\n~~Wrong Answer~~\n\n| Table1 | Table2 | Table3 |\n| --- | -- | ------ |\n| 1st    |    2nd |    3rd |\n| 4th    |    5th |    6th |\n",
      "metadata": {}
    }
  ]
}